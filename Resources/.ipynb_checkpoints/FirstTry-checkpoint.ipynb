{
 "cells": [
  {
   "cell_type": "markdown",
   "id": "04cefed3",
   "metadata": {},
   "source": [
    "# My Data"
   ]
  },
  {
   "cell_type": "code",
   "execution_count": null,
   "id": "a8f91c55",
   "metadata": {},
   "outputs": [],
   "source": [
    "import os\n",
    "import cv2\n",
    "import json\n",
    "import numpy as np\n",
    "import re\n",
    "import matplotlib.pyplot as plt\n",
    "import pandas as pd\n",
    "import networkx as nx\n",
    "import glob\n",
    "import scipy.cluster.vq as clusters\n",
    "import warnings\n",
    "warnings.simplefilter(action='ignore', category=FutureWarning)\n",
    "\n",
    "from sklearn.preprocessing import normalize\n",
    "from pandas.plotting import autocorrelation_plot as AC_plot \n",
    "from statsmodels.graphics import tsaplots\n",
    "from statsmodels.tsa.stattools import acf\n",
    "from skimage.filters import gaussian\n",
    "from mpl_toolkits.mplot3d import Axes3D \n",
    "from matplotlib.colors import LinearSegmentedColormap"
   ]
  },
  {
   "cell_type": "code",
   "execution_count": 1,
   "id": "692387f5",
   "metadata": {},
   "outputs": [],
   "source": [
    "OG_DATA_PATH = '/Users/tracysanchezpacheco/Documents/HumanAnalysis/HumanAnalysis'\n",
    "GIT_DATA_PATH = '/Users/tracysanchezpacheco/Documents/HumanAnalysis/HumanAnalysis/Data Exploration'\n",
    "GIT_PROCESSED_DATA_PATH = '/Users/tracysanchezpacheco/Documents/HumanAnalysis/HumanAnalysis/Results'\n",
    "GIT_GRAPH_PATH = '/Users/tracysanchezpacheco/Documents/HumanAnalysis/HumanAnalysis/Results/Graphs/'\n",
    "RESSOURCES_PATH = '/Users/tracysanchezpacheco/Documents/HumanAnalysis/HumanAnalysis/Resources/'\n",
    "\n",
    "# Reset the Datapath since the data is not yet on Git, comment out if data is on Git \n",
    "DATA_PATH = GIT_DATA_PATH\n",
    "PROCESSED_DATA_PATH = GIT_PROCESSED_DATA_PATH\n",
    "GRAPH_DATA_PATH = GIT_GRAPH_PATH\n"
   ]
  },
  {
   "cell_type": "code",
   "execution_count": null,
   "id": "2742de6d",
   "metadata": {},
   "outputs": [],
   "source": [
    "results = pd.read_json('Test.json')"
   ]
  }
 ],
 "metadata": {
  "kernelspec": {
   "display_name": "graphs",
   "language": "python",
   "name": "graphs"
  },
  "language_info": {
   "codemirror_mode": {
    "name": "ipython",
    "version": 3
   },
   "file_extension": ".py",
   "mimetype": "text/x-python",
   "name": "python",
   "nbconvert_exporter": "python",
   "pygments_lexer": "ipython3",
   "version": "3.6.13"
  }
 },
 "nbformat": 4,
 "nbformat_minor": 5
}
